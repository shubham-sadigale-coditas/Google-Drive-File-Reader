{
 "cells": [
  {
   "cell_type": "code",
   "execution_count": 43,
   "id": "02416a26-a50b-470e-9b10-87fa92224920",
   "metadata": {},
   "outputs": [],
   "source": [
    "from langchain_google_community import GoogleDriveLoader\n",
    "import os"
   ]
  },
  {
   "cell_type": "code",
   "execution_count": 44,
   "id": "11de5661",
   "metadata": {},
   "outputs": [],
   "source": [
    "from langchain_google_community import GoogleDriveLoader"
   ]
  },
  {
   "cell_type": "code",
   "execution_count": 65,
   "id": "dfab5b83",
   "metadata": {},
   "outputs": [
    {
     "name": "stdout",
     "output_type": "stream",
     "text": [
      "Files:\n",
      "History of India (1QZyktzvqk3nbDgopU-j6epzfCSFrWnye0KRntuGaBn0)\n",
      "Test-Google-Drive (1CRYOrvmLgWbSgJu3lbHh1gcQgEMfJ3dK)\n",
      "Seating Arrangement - 2022 (1hJR9tJEovuBXRzk5ISJcQUdO5od37JRdORvyruqmhkI)\n",
      "History of India.pdf (1t9L3Idlb9219JAQed-eTDgmC8Q8M5WgY)\n",
      "Coditas Carpool (1rkmXFtaqePobQ5HZqmVXqCtBSA_J2OgvHysjBvw5Mnk)\n",
      "Gym Bag Giveaway - Instructions & Ground Rules (1l0o6k7BIKo-XkhgoftMwSUAVfPTfpV8EJJiNucVG94s)\n",
      "Untitled2.ipynb (1rfO6uX9v-4vrEDub-lJd6QnueCcwUZtl)\n",
      "Untitled1.ipynb (1nkPYSSWahniPU7jWeQa4xwqzaadEIN4H)\n",
      "Copy of python_quickstart.ipynb (1FUF0W39XMk338anf8wth1NCtz3krjLp2)\n",
      "Untitled0.ipynb (1rUR_mB3d_-28Tjf-2IUauRHmS5tmFpNf)\n"
     ]
    }
   ],
   "source": [
    "import os.path\n",
    "\n",
    "from google.auth.transport.requests import Request\n",
    "from google.oauth2.credentials import Credentials\n",
    "from google_auth_oauthlib.flow import InstalledAppFlow\n",
    "from googleapiclient.discovery import build\n",
    "from googleapiclient.errors import HttpError\n",
    "\n",
    "# If modifying these scopes, delete the file token.json.\n",
    "SCOPES = [\"https://www.googleapis.com/auth/drive.metadata.readonly\"]\n",
    "\n",
    "\n",
    "def main():\n",
    "    \"\"\"Shows basic usage of the Drive v3 API.\n",
    "    Prints the names and ids of the first 10 files the user has access to.\n",
    "    \"\"\"\n",
    "    creds = None\n",
    "    # The file token.json stores the user's access and refresh tokens, and is\n",
    "    # created automatically when the authorization flow completes for the first\n",
    "    # time.\n",
    "    if os.path.exists(\"token.json\"):\n",
    "        creds = Credentials.from_authorized_user_file(\"token.json\", SCOPES)\n",
    "    # If there are no (valid) credentials available, let the user log in.\n",
    "    if not creds or not creds.valid:\n",
    "        if creds and creds.expired and creds.refresh_token:\n",
    "            creds.refresh(Request())\n",
    "        else:\n",
    "            flow = InstalledAppFlow.from_client_secrets_file(\"credentials.json\", SCOPES)\n",
    "            creds = flow.run_local_server(port=0)\n",
    "        # Save the credentials for the next run\n",
    "        with open(\"token.json\", \"w\") as token:\n",
    "            token.write(creds.to_json())\n",
    "\n",
    "    try:\n",
    "        service = build(\"drive\", \"v3\", credentials=creds)\n",
    "\n",
    "        # Call the Drive v3 API\n",
    "        results = (\n",
    "            service.files()\n",
    "            .list(pageSize=10, fields=\"nextPageToken, files(id, name)\")\n",
    "            .execute()\n",
    "        )\n",
    "        items = results.get(\"files\", [])\n",
    "\n",
    "        if not items:\n",
    "            print(\"No files found.\")\n",
    "            return\n",
    "        print(\"Files:\")\n",
    "        for item in items:\n",
    "            print(f\"{item['name']} ({item['id']})\")\n",
    "    except HttpError as error:\n",
    "        # TODO(developer) - Handle errors from drive API.\n",
    "        print(f\"An error occurred: {error}\")\n",
    "\n",
    "\n",
    "if __name__ == \"__main__\":\n",
    "    main()"
   ]
  },
  {
   "cell_type": "code",
   "execution_count": 66,
   "id": "e9dc39c5",
   "metadata": {},
   "outputs": [],
   "source": [
    "loader = GoogleDriveLoader(\n",
    "    document_ids=[\"1QZyktzvqk3nbDgopU-j6epzfCSFrWnye0KRntuGaBn0\"],\n",
    "    token_path=\"token.json\",\n",
    "    # Optional: configure whether to recursively fetch files from subfolders. Defaults to False.\n",
    "    recursive=False,\n",
    "    load_auth=True,\n",
    ")"
   ]
  },
  {
   "cell_type": "code",
   "execution_count": 67,
   "id": "3c2b5a65",
   "metadata": {},
   "outputs": [
    {
     "name": "stdout",
     "output_type": "stream",
     "text": [
      "service_account_key=WindowsPath('C:/Users/Coditas/.credentials/keys.json') credentials_path=WindowsPath('C:/Users/Coditas/.credentials/credentials.json') token_path=WindowsPath('token.json') folder_id=None document_ids=['1QZyktzvqk3nbDgopU-j6epzfCSFrWnye0KRntuGaBn0'] file_ids=None recursive=False file_types=None load_trashed_files=False file_loader_cls=None file_loader_kwargs={} load_auth=True\n"
     ]
    }
   ],
   "source": [
    "print(loader)"
   ]
  },
  {
   "cell_type": "code",
   "execution_count": 68,
   "id": "040fba09",
   "metadata": {},
   "outputs": [
    {
     "name": "stdout",
     "output_type": "stream",
     "text": [
      "An error occurred: <HttpError 403 when requesting https://www.googleapis.com/drive/v3/files/1QZyktzvqk3nbDgopU-j6epzfCSFrWnye0KRntuGaBn0/export?mimeType=text%2Fplain&alt=media returned \"Request had insufficient authentication scopes.\". Details: \"[{'message': 'Insufficient Permission', 'domain': 'global', 'reason': 'insufficientPermissions'}]\">\n"
     ]
    }
   ],
   "source": [
    "docs = loader.load()"
   ]
  },
  {
   "cell_type": "code",
   "execution_count": 56,
   "id": "944d2af0",
   "metadata": {},
   "outputs": [
    {
     "name": "stdout",
     "output_type": "stream",
     "text": [
      "[Document(page_content='', metadata={'source': 'https://docs.google.com/document/d/1QZyktzvqk3nbDgopU-j6epzfCSFrWnye0KRntuGaBn0/edit', 'title': 'History of India', 'when': '2024-04-23T09:07:06.043Z'})]\n"
     ]
    }
   ],
   "source": [
    "print(docs)"
   ]
  },
  {
   "cell_type": "code",
   "execution_count": null,
   "id": "6435113c",
   "metadata": {},
   "outputs": [],
   "source": []
  }
 ],
 "metadata": {
  "kernelspec": {
   "display_name": "myenv",
   "language": "python",
   "name": "python3"
  },
  "language_info": {
   "codemirror_mode": {
    "name": "ipython",
    "version": 3
   },
   "file_extension": ".py",
   "mimetype": "text/x-python",
   "name": "python",
   "nbconvert_exporter": "python",
   "pygments_lexer": "ipython3",
   "version": "3.12.2"
  }
 },
 "nbformat": 4,
 "nbformat_minor": 5
}
